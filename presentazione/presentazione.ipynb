{
 "cells": [
  {
   "cell_type": "markdown",
   "metadata": {
    "slideshow": {
     "slide_type": "slide"
    }
   },
   "source": [
    "<center>\n",
    "    <h1>Recipe Preprocessor</h1>\n",
    "</center>\n",
    "\n"
   ]
  },
  {
   "cell_type": "markdown",
   "metadata": {
    "slideshow": {
     "slide_type": "slide"
    }
   },
   "source": [
    "<h2>Introduzione</h2>"
   ]
  },
  {
   "cell_type": "markdown",
   "metadata": {
    "slideshow": {
     "slide_type": "fragment"
    }
   },
   "source": [
    "L'obiettivo di questo tutorial e' la costruzione di un sistema per il preprocessamento di ricette culinarie.<br>In questo caso il preprocessamento sara' composto da una parte di pulizia ed estrapolazione del testo, in modo da ottenere solo i dati essenziali ed infine da una parte di creazione degli embedding per l'uso nei vari modelli di machine learning."
   ]
  },
  {
   "cell_type": "markdown",
   "metadata": {
    "slideshow": {
     "slide_type": "slide"
    }
   },
   "source": [
    "<h2>Pipeline</h2>"
   ]
  },
  {
   "cell_type": "markdown",
   "metadata": {
    "slideshow": {
     "slide_type": "fragment"
    }
   },
   "source": [
    "<center>\n",
    "<img src=\"images/pipeline2.png\">\n",
    "</center>\n"
   ]
  },
  {
   "cell_type": "markdown",
   "metadata": {
    "slideshow": {
     "slide_type": "slide"
    }
   },
   "source": [
    "<h2>Data Ingestion</h2>"
   ]
  },
  {
   "cell_type": "markdown",
   "metadata": {
    "slideshow": {
     "slide_type": "fragment"
    }
   },
   "source": [
    "<div ali>\n",
    "<center>\n",
    "<img src=\"images/fluentd.png\" width=\"300\"/>\n",
    "</center>\n",
    "</div>\n",
    "\n",
    "<br><br>\n",
    "Come sistema di ingestion ho usato fleuntd per la facilita' di configurazione,la leggerezza del sistema, ed infine l'immensa libreria di plugin disponibili.<br>\n",
    "Infatti con fluentd e' possibile cambiare o aggiungere sorgenti di dati cambiando solamente alcune linee di testo in un file di configurazione."
   ]
  },
  {
   "cell_type": "markdown",
   "metadata": {
    "slideshow": {
     "slide_type": "subslide"
    }
   },
   "source": [
    "\n",
    "<center>\n",
    "<img src=\"images/kf2.png\"/>\n",
    "</center>"
   ]
  },
  {
   "cell_type": "markdown",
   "metadata": {
    "slideshow": {
     "slide_type": "slide"
    }
   },
   "source": [
    "<h2>Kafka</h2>\n"
   ]
  },
  {
   "cell_type": "markdown",
   "metadata": {
    "slideshow": {
     "slide_type": "fragment"
    }
   },
   "source": [
    "<div ali>\n",
    "<center>\n",
    "<img src=\"images/kafka.png\" width=\"300\"/>\n",
    "</center>\n",
    "</div>\n",
    "\n",
    "\n",
    "Apache Kafka è il sistema che permette permette di pubblicare, sottoscrivere, archiviare ed distribuire flussi di dati in tempo reale."
   ]
  },
  {
   "cell_type": "markdown",
   "metadata": {
    "slideshow": {
     "slide_type": "slide"
    }
   },
   "source": [
    "<h2>Kafka Streaming</h2>"
   ]
  },
  {
   "cell_type": "markdown",
   "metadata": {
    "slideshow": {
     "slide_type": "fragment"
    }
   },
   "source": [
    "<div ali>\n",
    "<center>\n",
    "<img src=\"images/kafkastream.jpg\" width=\"300\"/>\n",
    "</center>  \n",
    "</div>\n",
    "\n",
    "\n",
    "Kafka Streams e' libreria client  per la creazione di applicazione e microservizi, dove i dati di input e di output sono immaganizzati in dei kafka clusters. Combina la semplicita di scrivere standard codice Java ma con i benefici di avere la tecnologia cluster di Kafka lato server."
   ]
  },
  {
   "cell_type": "markdown",
   "metadata": {
    "slideshow": {
     "slide_type": "subslide"
    }
   },
   "source": [
    "<h3>Utilizzo</h3>"
   ]
  },
  {
   "cell_type": "markdown",
   "metadata": {
    "slideshow": {
     "slide_type": "fragment"
    }
   },
   "source": [
    "Nel progetto kafka stream e' utilizzato per estrapolazione dei dati di interesse dalle ricette, in questo caso pulizia degl ingredienti  presenti all' interno delle ricette ed enumerazione degli stessi."
   ]
  },
  {
   "cell_type": "markdown",
   "metadata": {
    "slideshow": {
     "slide_type": "subslide"
    }
   },
   "source": [
    "<h3>Perche Kafka Streaming e non Spark?</h3>"
   ]
  },
  {
   "cell_type": "markdown",
   "metadata": {
    "slideshow": {
     "slide_type": "fragment"
    }
   },
   "source": [
    "\n",
    "<center>\n",
    "<img src=\"images/ramMeme.png\">\n",
    "<center>\n",
    "\n",
    "\n",
    "Il motivo principale e' per la leggerezza di kafka streaming in confronto a Spark. Poiche' le operazione effettuate sono molto semplici non hanno bisogno della potenza e pesantezza data da spark."
   ]
  },
  {
   "cell_type": "markdown",
   "metadata": {
    "slideshow": {
     "slide_type": "slide"
    }
   },
   "source": [
    "<h2>Creazione degli embedding</h2>"
   ]
  },
  {
   "cell_type": "markdown",
   "metadata": {
    "slideshow": {
     "slide_type": "fragment"
    }
   },
   "source": [
    "<div ali>\n",
    "<center>\n",
    "<img src=\"images/spark.png\" width=\"300\"/>\n",
    "</center>\n",
    "    \n",
    "</div>\n",
    "\n",
    "Spark e' una piattaforma open source per l’elaborazione ed analisi di dati su larga scala, progettata per essere veloce e generica."
   ]
  },
  {
   "cell_type": "markdown",
   "metadata": {
    "slideshow": {
     "slide_type": "fragment"
    }
   },
   "source": [
    "Per creare gli embedding utilizzero un modello word2vec allenato in un cluster spark.I dati saranno prelevati tramite la libreria Spark Structured Streaming da kafka.\n",
    "Dopo la creazione degli embedding i dati veranno inviati al cluster elastic per lo storage degli stessi."
   ]
  },
  {
   "cell_type": "markdown",
   "metadata": {
    "slideshow": {
     "slide_type": "slide"
    }
   },
   "source": [
    "<h2>Data Storage and Visualization</h2>"
   ]
  },
  {
   "cell_type": "markdown",
   "metadata": {
    "slideshow": {
     "slide_type": "fragment"
    }
   },
   "source": [
    "<div ali>\n",
    "<center>\n",
    "<img src=\"images/es.png\" width=\"300\"/>\n",
    "</center>  \n",
    "</div>\n",
    "Elasticsearch è un server di ricerca basato su Lucene, con capacità Full Text, con supporto ad architetture distribuite."
   ]
  },
  {
   "cell_type": "markdown",
   "metadata": {
    "slideshow": {
     "slide_type": "fragment"
    }
   },
   "source": [
    "<center>\n",
    "<img src=\"images/speed.png\">\n",
    "</center>"
   ]
  },
  {
   "cell_type": "markdown",
   "metadata": {
    "slideshow": {
     "slide_type": "subslide"
    }
   },
   "source": [
    "<div ali>\n",
    "<center>\n",
    "<img src=\"images/kibana.png\" width=\"200\"/>\n",
    "</center>  \n",
    "</div>\n",
    "\n",
    "Kibana e' un sistema di visualazzazione ed analisi di dati presente nello stack elastic.\n",
    "Il sistema di avvale del server di ricerca elastic-search per la recuperare i dati e creare dashboard sugli stessi"
   ]
  }
 ],
 "metadata": {
  "celltoolbar": "Slideshow",
  "kernelspec": {
   "display_name": "Python 3 (ipykernel)",
   "language": "python",
   "name": "python3"
  },
  "language_info": {
   "codemirror_mode": {
    "name": "ipython",
    "version": 3
   },
   "file_extension": ".py",
   "mimetype": "text/x-python",
   "name": "python",
   "nbconvert_exporter": "python",
   "pygments_lexer": "ipython3",
   "version": "3.8.13"
  },
  "varInspector": {
   "cols": {
    "lenName": 16,
    "lenType": 16,
    "lenVar": 40
   },
   "kernels_config": {
    "python": {
     "delete_cmd_postfix": "",
     "delete_cmd_prefix": "del ",
     "library": "var_list.py",
     "varRefreshCmd": "print(var_dic_list())"
    },
    "r": {
     "delete_cmd_postfix": ") ",
     "delete_cmd_prefix": "rm(",
     "library": "var_list.r",
     "varRefreshCmd": "cat(var_dic_list()) "
    }
   },
   "types_to_exclude": [
    "module",
    "function",
    "builtin_function_or_method",
    "instance",
    "_Feature"
   ],
   "window_display": false
  },
  "widgets": {
   "application/vnd.jupyter.widget-state+json": {
    "state": {},
    "version_major": 2,
    "version_minor": 0
   }
  }
 },
 "nbformat": 4,
 "nbformat_minor": 4
}
